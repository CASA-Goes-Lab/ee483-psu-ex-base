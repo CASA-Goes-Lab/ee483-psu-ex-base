{
    "cells": [
        {
            "cell_type": "markdown",
            "metadata": {},
            "source": [
                "# <p style=\"text-align: center;\"> New roboticists in <span style=\"color:yellowgreen\"> <em>Duckietown</em></span> 🦆 🏘️ </p>"
            ]
        },
        {
            "cell_type": "markdown",
            "metadata": {},
            "source": [
                "## The autonomous Mallard Mobile\n",
                "<!-- - Story background -->\n",
                "In the heart of Duckietown, a small but ambitious startup had a vision: autonomous vehicles tailored specifically for their unique community. You, along with a team of engineers, were hired to bring this vision to life with the Mallard Mobile (MM).\n",
                "\n",
                "The project began with a single MM prototype, standing proud in the startup's workshop. It was sleek, with a distinctive design inspired by Duckietown's beloved mallards. However, it lacked the intelligence to navigate the town's streets autonomously.\n",
                "\n",
                "- Throughout this semester, you will: \n",
                "\t-\tImplement open-source, modular, and well-docummented <em> Python </em> code for the MMs;\n",
                "\t-\tDescribe the equation of motion of the MM and use sensors to estimate the MM velocity, and position in different coordinate frames;\n",
                "\t-\tDevelop vision algorithms to detect lanes in Duckietown;\n",
                "\t-\tImplement controllers to follow lanes and depending on time (possibly v2 of MM) stop for the citizens of Duckietown, a.k.a., the ducks;\n",
                "\t-\tDevelop planning algorithms to navigate in Duckietown (Possibly v2 of MM);\n",
                "\t-\tDescribe the ethical repercussions of the MMs.\n",
                "\n",
                "<!-- - You have been hired to develop autonomous vehicles, the Mallard Mobile (MM), for the newest start-up in Duckietown.\n",
                "- However, the company has not made made any software developments in this area. They, however, have a first MMs vehicle ready for software development!!!\n",
                "- You will be the engineers responsible to develop safe, reliable, and ethical software for the autonomous Mallard Mobile.\n",
                "- Throughout this semester, you will:\n",
                "\t-\tImplement open-source and well-docummented <em> Python </em> code for the MMs;\n",
                "\t-\tDescribe the equation of motion of the MM and use sensors to estimate the MM velocity, and position in different coordinate frames;\n",
                "\t-\tDevelop vision algorithms to detect lanes in Duckietown;\n",
                "\t-\tImplement controllers to follow lanes and depending on time (possibly v2 of MM) stop for the citizens of Duckietown, a.k.a., the ducks;\n",
                "\t-\tDevelop planning algorithms to navigate in Duckietown (Possibly v2 of MM);\n",
                "\t-\tDescribe the ethical repercussions of the MMs. -->"
            ]
        },
        {
            "cell_type": "markdown",
            "metadata": {},
            "source": [
                "\t\n",
                "## To start, we have got to do some training:\n",
                "- Why Linux? Docker? and ROS?\n",
                "- Putting your knowledge to test\n",
                "<p> Before you joined the team, an intern developed Python ROS code for the MMs. However, their code did not work properly.</p>\n",
                "<p> Using the information from your training, you will debug this code and find the errors. This is an important task as it can help <emph style=\"color:tomato\">future you</emph> in your code development. Knowing to identify errors and bugs, including your own, is a great skill to improve upon it.</p>\n"
            ]
        }
    ],
    "metadata": {
        "kernelspec": {
            "display_name": "Python 3.8.10 64-bit",
            "language": "python",
            "name": "python3"
        },
        "language_info": {
            "codemirror_mode": {
                "name": "ipython",
                "version": 3
            },
            "file_extension": ".py",
            "mimetype": "text/x-python",
            "name": "python",
            "nbconvert_exporter": "python",
            "pygments_lexer": "ipython3",
            "version": "3.8.10"
        },
        "vscode": {
            "interpreter": {
                "hash": "916dbcbb3f70747c44a77c7bcd40155683ae19c65e1c03b4aa3499c5328201f1"
            }
        }
    },
    "nbformat": 4,
    "nbformat_minor": 0
}
